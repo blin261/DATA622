{
 "cells": [
  {
   "cell_type": "code",
   "execution_count": 4,
   "metadata": {},
   "outputs": [],
   "source": [
    "import pandas as pd\n",
    "import numpy as np\n",
    "import matplotlib.pyplot as plt\n",
    "import pickle\n",
    "import Tkinter as tk\n",
    "\n",
    "\n",
    "from sklearn.ensemble import RandomForestClassifier\n",
    "from sklearn.datasets import make_classification\n",
    "from sklearn.preprocessing import Imputer\n",
    "from sklearn.pipeline import Pipeline\n",
    "from sklearn.model_selection import train_test_split\n",
    "\n",
    "def model(X, y):\n",
    "    imp = Imputer(missing_values = np.nan, strategy = 'mean')\n",
    "    clf = RandomForestClassifier(n_estimators = 100, max_depth = 2, random_state = 0)\n",
    "    \n",
    "    steps = [(\"imputation\", imp), (\"random_forest\", clf)]\n",
    "    pipeline = Pipeline(steps)\n",
    "    \n",
    "    X_train, X_test, y_train, y_test = train_test_split(X, y, test_size = 0.4, random_state=42)\n",
    "    \n",
    "    X_test.to_csv(\"X_test.csv\")\n",
    "    y_test.to_csv(\"y_test.csv\")\n",
    "    \n",
    "    m = pipeline.fit(X_train, y_train)\n",
    "    return m\n",
    "\n",
    "def main():\n",
    "    df = pd.read_csv(\"C:/Users/blin261/Desktop/MSDS/DATA622/titanic_train.csv\")\n",
    "    df = df.drop([\"PassengerId\", \"Name\", \"Ticket\", \"Cabin\"], axis = 1)\n",
    "    df = pd.get_dummies(df)\n",
    "    new_df = df.drop([\"Sex_female\", \"Embarked_C\"], axis = 1)\n",
    "    \n",
    "    y = new_df[\"Survived\"]\n",
    "    X = new_df.drop(\"Survived\", axis = 1)\n",
    "    m = model(X, y)\n",
    "    \n",
    "    output = open('model.pkl', 'wb')\n",
    "    pickle.dump(m, output)\n",
    "    \n",
    "    \n",
    "if __name__==\"__main__\":\n",
    "    main()"
   ]
  },
  {
   "cell_type": "code",
   "execution_count": null,
   "metadata": {},
   "outputs": [],
   "source": []
  }
 ],
 "metadata": {
  "kernelspec": {
   "display_name": "Python 2",
   "language": "python",
   "name": "python2"
  },
  "language_info": {
   "codemirror_mode": {
    "name": "ipython",
    "version": 2
   },
   "file_extension": ".py",
   "mimetype": "text/x-python",
   "name": "python",
   "nbconvert_exporter": "python",
   "pygments_lexer": "ipython2",
   "version": "2.7.15"
  }
 },
 "nbformat": 4,
 "nbformat_minor": 2
}
