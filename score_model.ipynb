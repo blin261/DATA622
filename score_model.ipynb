{
 "cells": [
  {
   "cell_type": "code",
   "execution_count": 1,
   "metadata": {},
   "outputs": [
    {
     "name": "stdout",
     "output_type": "stream",
     "text": [
      "   Pclass   Age  SibSp  Parch     Fare  Sex_male  Embarked_Q  Embarked_S\n",
      "0       3  34.5      0      0   7.8292         1           1           0\n",
      "1       3  47.0      1      0   7.0000         0           0           1\n",
      "2       2  62.0      0      0   9.6875         1           1           0\n",
      "3       3  27.0      0      0   8.6625         1           0           1\n",
      "4       3  22.0      1      1  12.2875         0           0           1\n",
      "(\"The model's accuracy score is \\n\", 0.7808988764044944)\n",
      "('The Classification report is \\n', u'             precision    recall  f1-score   support\\n\\n          0       0.75      0.95      0.84       216\\n          1       0.87      0.52      0.65       140\\n\\navg / total       0.80      0.78      0.77       356\\n')\n",
      "('The predicted value for the titanic test set is \\n', array([0, 0, 0, 0, 0, 0, 0, 0, 0, 0, 0, 0, 1, 0, 1, 1, 0, 0, 0, 0, 0, 0,\n",
      "       1, 0, 1, 0, 1, 0, 0, 0, 0, 0, 0, 0, 0, 0, 0, 0, 0, 0, 0, 0, 0, 1,\n",
      "       1, 0, 0, 0, 1, 0, 0, 0, 1, 1, 0, 0, 0, 0, 0, 1, 0, 0, 0, 0, 0, 1,\n",
      "       0, 0, 0, 1, 0, 0, 0, 0, 1, 0, 0, 1, 0, 0, 0, 0, 0, 0, 0, 0, 0, 0,\n",
      "       0, 0, 0, 0, 1, 0, 0, 0, 1, 0, 0, 0, 1, 0, 0, 0, 0, 0, 0, 0, 0, 0,\n",
      "       0, 0, 1, 0, 1, 0, 0, 1, 0, 1, 1, 0, 1, 0, 0, 0, 0, 1, 0, 0, 0, 0,\n",
      "       0, 0, 0, 0, 0, 0, 0, 0, 0, 1, 0, 0, 0, 0, 0, 0, 0, 0, 1, 0, 0, 0,\n",
      "       0, 0, 1, 0, 0, 0, 0, 0, 1, 0, 0, 0, 0, 0, 1, 0, 0, 0, 0, 0, 0, 1,\n",
      "       1, 0, 1, 1, 0, 0, 1, 0, 1, 0, 1, 0, 0, 0, 0, 0, 0, 0, 0, 0, 1, 0,\n",
      "       0, 0, 1, 0, 0, 1, 0, 0, 0, 0, 1, 0, 0, 0, 0, 1, 0, 0, 0, 0, 1, 0,\n",
      "       1, 0, 1, 0, 1, 1, 0, 0, 0, 0, 0, 1, 0, 0, 0, 0, 0, 0, 1, 1, 1, 1,\n",
      "       0, 0, 0, 0, 1, 0, 1, 1, 1, 0, 0, 0, 0, 0, 0, 0, 1, 0, 0, 0, 1, 1,\n",
      "       0, 0, 0, 0, 0, 0, 0, 0, 1, 1, 0, 1, 0, 0, 0, 0, 0, 0, 0, 1, 1, 0,\n",
      "       0, 0, 0, 0, 0, 0, 0, 0, 0, 0, 1, 0, 0, 0, 0, 0, 0, 0, 0, 1, 0, 0,\n",
      "       0, 0, 0, 0, 0, 0, 1, 0, 0, 0, 0, 0, 0, 0, 0, 0, 1, 0, 1, 0, 0, 0,\n",
      "       1, 0, 0, 1, 0, 0, 0, 0, 0, 0, 0, 0, 0, 1, 0, 0, 0, 0, 0, 1, 1, 0,\n",
      "       0, 0, 1, 0, 1, 0, 0, 0, 0, 1, 1, 0, 1, 0, 0, 0, 1, 0, 0, 1, 0, 0,\n",
      "       1, 1, 0, 0, 0, 0, 0, 0, 0, 0, 0, 1, 0, 0, 0, 0, 0, 1, 0, 0, 0, 1,\n",
      "       0, 1, 0, 0, 1, 0, 1, 0, 0, 0, 0, 0, 0, 1, 0, 1, 0, 0, 1, 0, 0, 0],\n",
      "      dtype=int64))\n"
     ]
    },
    {
     "name": "stderr",
     "output_type": "stream",
     "text": [
      "C:\\ProgramData\\Anaconda2\\lib\\site-packages\\sklearn\\ensemble\\weight_boosting.py:29: DeprecationWarning: numpy.core.umath_tests is an internal NumPy module and should not be imported. It will be removed in a future NumPy release.\n",
      "  from numpy.core.umath_tests import inner1d\n"
     ]
    }
   ],
   "source": [
    "from sklearn.metrics import classification_report\n",
    "import pandas as pd\n",
    "import pickle\n",
    "\n",
    "\n",
    "def data_prep(df):\n",
    "    df = df.drop([\"PassengerId\", \"Name\", \"Ticket\", \"Cabin\"], axis = 1)\n",
    "    df = pd.get_dummies(df)\n",
    "    new_df = df.drop([\"Sex_female\", \"Embarked_C\"], axis = 1)\n",
    "\n",
    "    return new_df\n",
    "\n",
    "def main():\n",
    "    X_test = pd.read_csv(\"X_test.csv\")\n",
    "    y_test = pd.read_csv(\"y_test.csv\")\n",
    "    titanic_test = pd.read_csv(\"titanic_test.csv\")\n",
    "    \n",
    "    X_test.drop(X_test.columns[[0]], axis = 1, inplace = True)\n",
    "    y_test.drop(y_test.columns[[0]], axis = 1, inplace = True)\n",
    "    X_test.drop(X_test.index[0], inplace = True)\n",
    "    \n",
    "    p = open(\"model.pkl\")\n",
    "    rfc_model = pickle.load(p)\n",
    "    \n",
    "    score = rfc_model.score(X_test, y_test)\n",
    "    y_pred = rfc_model.predict(X_test)\n",
    "    report = classification_report(y_test, y_pred)\n",
    "    \n",
    "    input = data_prep(titanic_test)\n",
    "    print(input.head())\n",
    "    \n",
    "    test_pred = rfc_model.predict(input)\n",
    "    \n",
    "    print(\"The model's accuracy score is \\n\", score)\n",
    "    print(\"The Classification report is \\n\", report)\n",
    "    print(\"The predicted value for the titanic test set is \\n\", test_pred)\n",
    "    \n",
    "    \n",
    "if __name__ == \"__main__\":\n",
    "    main()"
   ]
  },
  {
   "cell_type": "code",
   "execution_count": null,
   "metadata": {},
   "outputs": [],
   "source": []
  }
 ],
 "metadata": {
  "kernelspec": {
   "display_name": "Python 2",
   "language": "python",
   "name": "python2"
  },
  "language_info": {
   "codemirror_mode": {
    "name": "ipython",
    "version": 2
   },
   "file_extension": ".py",
   "mimetype": "text/x-python",
   "name": "python",
   "nbconvert_exporter": "python",
   "pygments_lexer": "ipython2",
   "version": "2.7.15"
  }
 },
 "nbformat": 4,
 "nbformat_minor": 2
}
