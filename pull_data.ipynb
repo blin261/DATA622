{
 "cells": [
  {
   "cell_type": "code",
   "execution_count": 1,
   "metadata": {},
   "outputs": [
    {
     "name": "stdout",
     "output_type": "stream",
     "text": [
      "Username is········\n",
      "Password is········\n",
      "AntiForgeryToken=mp7mUa5JDU_IjhKkISgBDGdxuj18zsq07ygoeuaBjJMFWCaDBrG8kDqw45hwmppbcA2YpIgA7cwsPy6QB6z8CYPPZNM1\n",
      "<Response [200]>\n",
      "<Response [200]>\n"
     ]
    }
   ],
   "source": [
    "import requests\n",
    "import getpass \n",
    "\n",
    "username = getpass.getpass(\"Username is\")\n",
    "password = getpass.getpass(\"Password is\")\n",
    "    \n",
    "payload = {\n",
    "    '__RequestVerificationToken': '',\n",
    "    'username': username,\n",
    "    'password': password,\n",
    "    'rememberme': 'false'\n",
    "}\n",
    "\n",
    "login_url = 'https://www.kaggle.com/account/login'\n",
    "train_url = \"https://www.kaggle.com/c/titanic/download/train.csv\"\n",
    "test_url = \"https://www.kaggle.com/c/titanic/download/test.csv\"\n",
    "    \n",
    "train_filename = \"titanic_train.csv\"\n",
    "test_filename = \"titanic_test.csv\"\n",
    "    \n",
    "with requests.Session() as c:\n",
    "    response = c.get(login_url).text\n",
    "    AFToken = response[response.index('antiForgeryToken')+19:response.index('isAnonymous: ')-12]\n",
    "    print(\"AntiForgeryToken={}\".format(AFToken))\n",
    "    payload['__RequestVerificationToken'] = AFToken\n",
    "    c.post(login_url + \"?isModal=true&returnUrl=/\", data = payload)   \n",
    "    r = c.get(train_url)\n",
    "    print(r)\n",
    "    f = open(train_filename, 'wb')\n",
    "    f.write(r.content)\n",
    "    f.close()\n",
    "    \n",
    "    r = c.get(test_url)\n",
    "    print(r)\n",
    "    f = open(test_filename, 'wb')\n",
    "    f.write(r.content)\n",
    "    f.close()       "
   ]
  },
  {
   "cell_type": "code",
   "execution_count": null,
   "metadata": {},
   "outputs": [],
   "source": []
  }
 ],
 "metadata": {
  "kernelspec": {
   "display_name": "Python 2",
   "language": "python",
   "name": "python2"
  },
  "language_info": {
   "codemirror_mode": {
    "name": "ipython",
    "version": 2
   },
   "file_extension": ".py",
   "mimetype": "text/x-python",
   "name": "python",
   "nbconvert_exporter": "python",
   "pygments_lexer": "ipython2",
   "version": "2.7.15"
  }
 },
 "nbformat": 4,
 "nbformat_minor": 2
}
